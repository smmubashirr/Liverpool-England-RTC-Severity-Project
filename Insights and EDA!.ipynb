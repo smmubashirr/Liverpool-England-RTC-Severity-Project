{
 "cells": [
  {
   "cell_type": "code",
   "execution_count": 1,
   "id": "dd7ca339",
   "metadata": {},
   "outputs": [],
   "source": [
    "import pandas as pd\n",
    "import matplotlib.pyplot as plt\n",
    "import seaborn as sns\n",
    "import numpy as np\n",
    "import empiricaldist as ed"
   ]
  },
  {
   "cell_type": "code",
   "execution_count": 2,
   "id": "81ad52bb",
   "metadata": {},
   "outputs": [],
   "source": [
    "data = pd.read_csv('csv/accident_data.csv')"
   ]
  },
  {
   "cell_type": "code",
   "execution_count": 3,
   "id": "3795c26a",
   "metadata": {},
   "outputs": [],
   "source": [
    "pd.set_option('display.max_columns', None)"
   ]
  },
  {
   "cell_type": "code",
   "execution_count": 4,
   "id": "00251cca",
   "metadata": {
    "collapsed": true
   },
   "outputs": [
    {
     "data": {
      "text/html": [
       "<div>\n",
       "<style scoped>\n",
       "    .dataframe tbody tr th:only-of-type {\n",
       "        vertical-align: middle;\n",
       "    }\n",
       "\n",
       "    .dataframe tbody tr th {\n",
       "        vertical-align: top;\n",
       "    }\n",
       "\n",
       "    .dataframe thead th {\n",
       "        text-align: right;\n",
       "    }\n",
       "</style>\n",
       "<table border=\"1\" class=\"dataframe\">\n",
       "  <thead>\n",
       "    <tr style=\"text-align: right;\">\n",
       "      <th></th>\n",
       "      <th>Accident_Index</th>\n",
       "      <th>1st_Road_Class</th>\n",
       "      <th>1st_Road_Number</th>\n",
       "      <th>2nd_Road_Class</th>\n",
       "      <th>2nd_Road_Number</th>\n",
       "      <th>Accident_Severity</th>\n",
       "      <th>Carriageway_Hazards</th>\n",
       "      <th>Date</th>\n",
       "      <th>Day_of_Week</th>\n",
       "      <th>Did_Police_Officer_Attend_Scene_of_Accident</th>\n",
       "      <th>Junction_Control</th>\n",
       "      <th>Junction_Detail</th>\n",
       "      <th>Latitude</th>\n",
       "      <th>Light_Conditions</th>\n",
       "      <th>Local_Authority_(District)</th>\n",
       "      <th>Local_Authority_(Highway)</th>\n",
       "      <th>Location_Easting_OSGR</th>\n",
       "      <th>Location_Northing_OSGR</th>\n",
       "      <th>Longitude</th>\n",
       "      <th>LSOA_of_Accident_Location</th>\n",
       "      <th>Number_of_Casualties</th>\n",
       "      <th>Number_of_Vehicles</th>\n",
       "      <th>Pedestrian_Crossing-Human_Control</th>\n",
       "      <th>Pedestrian_Crossing-Physical_Facilities</th>\n",
       "      <th>Police_Force</th>\n",
       "      <th>Road_Surface_Conditions</th>\n",
       "      <th>Road_Type</th>\n",
       "      <th>Special_Conditions_at_Site</th>\n",
       "      <th>Speed_limit</th>\n",
       "      <th>Time</th>\n",
       "      <th>Urban_or_Rural_Area</th>\n",
       "      <th>Weather_Conditions</th>\n",
       "      <th>Year</th>\n",
       "      <th>InScotland</th>\n",
       "    </tr>\n",
       "  </thead>\n",
       "  <tbody>\n",
       "    <tr>\n",
       "      <th>0</th>\n",
       "      <td>200501BS00001</td>\n",
       "      <td>A</td>\n",
       "      <td>3218.0</td>\n",
       "      <td>NaN</td>\n",
       "      <td>0.0</td>\n",
       "      <td>Serious</td>\n",
       "      <td>None</td>\n",
       "      <td>04/01/2005</td>\n",
       "      <td>Tuesday</td>\n",
       "      <td>1.0</td>\n",
       "      <td>Data missing or out of range</td>\n",
       "      <td>Not at junction or within 20 metres</td>\n",
       "      <td>51.489096</td>\n",
       "      <td>NaN</td>\n",
       "      <td>Kensington and Chelsea</td>\n",
       "      <td>Kensington and Chelsea</td>\n",
       "      <td>525680.0</td>\n",
       "      <td>178240.0</td>\n",
       "      <td>-0.191170</td>\n",
       "      <td>E01002849</td>\n",
       "      <td>1</td>\n",
       "      <td>1</td>\n",
       "      <td>0.0</td>\n",
       "      <td>1.0</td>\n",
       "      <td>Metropolitan Police</td>\n",
       "      <td>Wet or damp</td>\n",
       "      <td>Single carriageway</td>\n",
       "      <td>None</td>\n",
       "      <td>30</td>\n",
       "      <td>17:42</td>\n",
       "      <td>Urban</td>\n",
       "      <td>Raining no high winds</td>\n",
       "      <td>2005</td>\n",
       "      <td>No</td>\n",
       "    </tr>\n",
       "    <tr>\n",
       "      <th>1</th>\n",
       "      <td>200501BS00002</td>\n",
       "      <td>B</td>\n",
       "      <td>450.0</td>\n",
       "      <td>C</td>\n",
       "      <td>0.0</td>\n",
       "      <td>Slight</td>\n",
       "      <td>None</td>\n",
       "      <td>05/01/2005</td>\n",
       "      <td>Wednesday</td>\n",
       "      <td>1.0</td>\n",
       "      <td>Auto traffic signal</td>\n",
       "      <td>Crossroads</td>\n",
       "      <td>51.520075</td>\n",
       "      <td>Darkness - lights lit</td>\n",
       "      <td>Kensington and Chelsea</td>\n",
       "      <td>Kensington and Chelsea</td>\n",
       "      <td>524170.0</td>\n",
       "      <td>181650.0</td>\n",
       "      <td>-0.211708</td>\n",
       "      <td>E01002909</td>\n",
       "      <td>1</td>\n",
       "      <td>1</td>\n",
       "      <td>0.0</td>\n",
       "      <td>5.0</td>\n",
       "      <td>Metropolitan Police</td>\n",
       "      <td>Dry</td>\n",
       "      <td>Dual carriageway</td>\n",
       "      <td>None</td>\n",
       "      <td>30</td>\n",
       "      <td>17:36</td>\n",
       "      <td>Urban</td>\n",
       "      <td>Fine no high winds</td>\n",
       "      <td>2005</td>\n",
       "      <td>No</td>\n",
       "    </tr>\n",
       "    <tr>\n",
       "      <th>2</th>\n",
       "      <td>200501BS00003</td>\n",
       "      <td>C</td>\n",
       "      <td>0.0</td>\n",
       "      <td>NaN</td>\n",
       "      <td>0.0</td>\n",
       "      <td>Slight</td>\n",
       "      <td>None</td>\n",
       "      <td>06/01/2005</td>\n",
       "      <td>Thursday</td>\n",
       "      <td>1.0</td>\n",
       "      <td>Data missing or out of range</td>\n",
       "      <td>Not at junction or within 20 metres</td>\n",
       "      <td>51.525301</td>\n",
       "      <td>Darkness - lights lit</td>\n",
       "      <td>Kensington and Chelsea</td>\n",
       "      <td>Kensington and Chelsea</td>\n",
       "      <td>524520.0</td>\n",
       "      <td>182240.0</td>\n",
       "      <td>-0.206458</td>\n",
       "      <td>E01002857</td>\n",
       "      <td>1</td>\n",
       "      <td>2</td>\n",
       "      <td>0.0</td>\n",
       "      <td>0.0</td>\n",
       "      <td>Metropolitan Police</td>\n",
       "      <td>Dry</td>\n",
       "      <td>Single carriageway</td>\n",
       "      <td>None</td>\n",
       "      <td>30</td>\n",
       "      <td>00:15</td>\n",
       "      <td>Urban</td>\n",
       "      <td>Fine no high winds</td>\n",
       "      <td>2005</td>\n",
       "      <td>No</td>\n",
       "    </tr>\n",
       "    <tr>\n",
       "      <th>3</th>\n",
       "      <td>200501BS00004</td>\n",
       "      <td>A</td>\n",
       "      <td>3220.0</td>\n",
       "      <td>NaN</td>\n",
       "      <td>0.0</td>\n",
       "      <td>Slight</td>\n",
       "      <td>None</td>\n",
       "      <td>07/01/2005</td>\n",
       "      <td>Friday</td>\n",
       "      <td>1.0</td>\n",
       "      <td>Data missing or out of range</td>\n",
       "      <td>Not at junction or within 20 metres</td>\n",
       "      <td>51.482442</td>\n",
       "      <td>NaN</td>\n",
       "      <td>Kensington and Chelsea</td>\n",
       "      <td>Kensington and Chelsea</td>\n",
       "      <td>526900.0</td>\n",
       "      <td>177530.0</td>\n",
       "      <td>-0.173862</td>\n",
       "      <td>E01002840</td>\n",
       "      <td>1</td>\n",
       "      <td>1</td>\n",
       "      <td>0.0</td>\n",
       "      <td>0.0</td>\n",
       "      <td>Metropolitan Police</td>\n",
       "      <td>Dry</td>\n",
       "      <td>Single carriageway</td>\n",
       "      <td>None</td>\n",
       "      <td>30</td>\n",
       "      <td>10:35</td>\n",
       "      <td>Urban</td>\n",
       "      <td>Fine no high winds</td>\n",
       "      <td>2005</td>\n",
       "      <td>No</td>\n",
       "    </tr>\n",
       "    <tr>\n",
       "      <th>4</th>\n",
       "      <td>200501BS00005</td>\n",
       "      <td>NaN</td>\n",
       "      <td>0.0</td>\n",
       "      <td>NaN</td>\n",
       "      <td>0.0</td>\n",
       "      <td>Slight</td>\n",
       "      <td>None</td>\n",
       "      <td>10/01/2005</td>\n",
       "      <td>Monday</td>\n",
       "      <td>1.0</td>\n",
       "      <td>Data missing or out of range</td>\n",
       "      <td>Not at junction or within 20 metres</td>\n",
       "      <td>51.495752</td>\n",
       "      <td>Darkness - lighting unknown</td>\n",
       "      <td>Kensington and Chelsea</td>\n",
       "      <td>Kensington and Chelsea</td>\n",
       "      <td>528060.0</td>\n",
       "      <td>179040.0</td>\n",
       "      <td>-0.156618</td>\n",
       "      <td>E01002863</td>\n",
       "      <td>1</td>\n",
       "      <td>1</td>\n",
       "      <td>0.0</td>\n",
       "      <td>0.0</td>\n",
       "      <td>Metropolitan Police</td>\n",
       "      <td>Wet or damp</td>\n",
       "      <td>Single carriageway</td>\n",
       "      <td>None</td>\n",
       "      <td>30</td>\n",
       "      <td>21:13</td>\n",
       "      <td>Urban</td>\n",
       "      <td>Fine no high winds</td>\n",
       "      <td>2005</td>\n",
       "      <td>No</td>\n",
       "    </tr>\n",
       "  </tbody>\n",
       "</table>\n",
       "</div>"
      ],
      "text/plain": [
       "  Accident_Index 1st_Road_Class  1st_Road_Number 2nd_Road_Class  \\\n",
       "0  200501BS00001              A           3218.0            NaN   \n",
       "1  200501BS00002              B            450.0              C   \n",
       "2  200501BS00003              C              0.0            NaN   \n",
       "3  200501BS00004              A           3220.0            NaN   \n",
       "4  200501BS00005            NaN              0.0            NaN   \n",
       "\n",
       "   2nd_Road_Number Accident_Severity Carriageway_Hazards        Date  \\\n",
       "0              0.0           Serious                None  04/01/2005   \n",
       "1              0.0            Slight                None  05/01/2005   \n",
       "2              0.0            Slight                None  06/01/2005   \n",
       "3              0.0            Slight                None  07/01/2005   \n",
       "4              0.0            Slight                None  10/01/2005   \n",
       "\n",
       "  Day_of_Week  Did_Police_Officer_Attend_Scene_of_Accident  \\\n",
       "0     Tuesday                                          1.0   \n",
       "1   Wednesday                                          1.0   \n",
       "2    Thursday                                          1.0   \n",
       "3      Friday                                          1.0   \n",
       "4      Monday                                          1.0   \n",
       "\n",
       "               Junction_Control                      Junction_Detail  \\\n",
       "0  Data missing or out of range  Not at junction or within 20 metres   \n",
       "1           Auto traffic signal                           Crossroads   \n",
       "2  Data missing or out of range  Not at junction or within 20 metres   \n",
       "3  Data missing or out of range  Not at junction or within 20 metres   \n",
       "4  Data missing or out of range  Not at junction or within 20 metres   \n",
       "\n",
       "    Latitude             Light_Conditions Local_Authority_(District)  \\\n",
       "0  51.489096                          NaN     Kensington and Chelsea   \n",
       "1  51.520075        Darkness - lights lit     Kensington and Chelsea   \n",
       "2  51.525301        Darkness - lights lit     Kensington and Chelsea   \n",
       "3  51.482442                          NaN     Kensington and Chelsea   \n",
       "4  51.495752  Darkness - lighting unknown     Kensington and Chelsea   \n",
       "\n",
       "  Local_Authority_(Highway)  Location_Easting_OSGR  Location_Northing_OSGR  \\\n",
       "0    Kensington and Chelsea               525680.0                178240.0   \n",
       "1    Kensington and Chelsea               524170.0                181650.0   \n",
       "2    Kensington and Chelsea               524520.0                182240.0   \n",
       "3    Kensington and Chelsea               526900.0                177530.0   \n",
       "4    Kensington and Chelsea               528060.0                179040.0   \n",
       "\n",
       "   Longitude LSOA_of_Accident_Location  Number_of_Casualties  \\\n",
       "0  -0.191170                 E01002849                     1   \n",
       "1  -0.211708                 E01002909                     1   \n",
       "2  -0.206458                 E01002857                     1   \n",
       "3  -0.173862                 E01002840                     1   \n",
       "4  -0.156618                 E01002863                     1   \n",
       "\n",
       "   Number_of_Vehicles  Pedestrian_Crossing-Human_Control  \\\n",
       "0                   1                                0.0   \n",
       "1                   1                                0.0   \n",
       "2                   2                                0.0   \n",
       "3                   1                                0.0   \n",
       "4                   1                                0.0   \n",
       "\n",
       "   Pedestrian_Crossing-Physical_Facilities         Police_Force  \\\n",
       "0                                      1.0  Metropolitan Police   \n",
       "1                                      5.0  Metropolitan Police   \n",
       "2                                      0.0  Metropolitan Police   \n",
       "3                                      0.0  Metropolitan Police   \n",
       "4                                      0.0  Metropolitan Police   \n",
       "\n",
       "  Road_Surface_Conditions           Road_Type Special_Conditions_at_Site  \\\n",
       "0             Wet or damp  Single carriageway                       None   \n",
       "1                     Dry    Dual carriageway                       None   \n",
       "2                     Dry  Single carriageway                       None   \n",
       "3                     Dry  Single carriageway                       None   \n",
       "4             Wet or damp  Single carriageway                       None   \n",
       "\n",
       "   Speed_limit   Time Urban_or_Rural_Area     Weather_Conditions  Year  \\\n",
       "0           30  17:42               Urban  Raining no high winds  2005   \n",
       "1           30  17:36               Urban     Fine no high winds  2005   \n",
       "2           30  00:15               Urban     Fine no high winds  2005   \n",
       "3           30  10:35               Urban     Fine no high winds  2005   \n",
       "4           30  21:13               Urban     Fine no high winds  2005   \n",
       "\n",
       "  InScotland  \n",
       "0         No  \n",
       "1         No  \n",
       "2         No  \n",
       "3         No  \n",
       "4         No  "
      ]
     },
     "execution_count": 4,
     "metadata": {},
     "output_type": "execute_result"
    }
   ],
   "source": [
    "data.head()"
   ]
  },
  {
   "cell_type": "code",
   "execution_count": 5,
   "id": "e0fa1cf9",
   "metadata": {
    "collapsed": true
   },
   "outputs": [
    {
     "data": {
      "text/plain": [
       "Accident_Index                                      0\n",
       "1st_Road_Class                                 305589\n",
       "1st_Road_Number                                     2\n",
       "2nd_Road_Class                                 439824\n",
       "2nd_Road_Number                                 10803\n",
       "Accident_Severity                                   0\n",
       "Carriageway_Hazards                                29\n",
       "Date                                                0\n",
       "Day_of_Week                                         0\n",
       "Did_Police_Officer_Attend_Scene_of_Accident       269\n",
       "Junction_Control                                    0\n",
       "Junction_Detail                                     0\n",
       "Latitude                                          111\n",
       "Light_Conditions                                 2084\n",
       "Local_Authority_(District)                          0\n",
       "Local_Authority_(Highway)                           0\n",
       "Location_Easting_OSGR                             111\n",
       "Location_Northing_OSGR                            111\n",
       "Longitude                                         112\n",
       "LSOA_of_Accident_Location                       71890\n",
       "Number_of_Casualties                                0\n",
       "Number_of_Vehicles                                  0\n",
       "Pedestrian_Crossing-Human_Control                  21\n",
       "Pedestrian_Crossing-Physical_Facilities            37\n",
       "Police_Force                                        0\n",
       "Road_Surface_Conditions                          1189\n",
       "Road_Type                                        7266\n",
       "Special_Conditions_at_Site                         16\n",
       "Speed_limit                                         0\n",
       "Time                                              100\n",
       "Urban_or_Rural_Area                                85\n",
       "Weather_Conditions                              21392\n",
       "Year                                                0\n",
       "InScotland                                         43\n",
       "dtype: int64"
      ]
     },
     "execution_count": 5,
     "metadata": {},
     "output_type": "execute_result"
    }
   ],
   "source": [
    "data.isna().sum()"
   ]
  },
  {
   "cell_type": "code",
   "execution_count": 6,
   "id": "cff613a8",
   "metadata": {
    "collapsed": true
   },
   "outputs": [
    {
     "data": {
      "text/plain": [
       "A           470854\n",
       "B           133179\n",
       "C            93983\n",
       "Motorway     42297\n",
       "A(M)          2673\n",
       "Name: 1st_Road_Class, dtype: int64"
      ]
     },
     "execution_count": 6,
     "metadata": {},
     "output_type": "execute_result"
    }
   ],
   "source": [
    "data['1st_Road_Class'].value_counts()"
   ]
  },
  {
   "cell_type": "code",
   "execution_count": 7,
   "id": "df788d46",
   "metadata": {
    "collapsed": true
   },
   "outputs": [
    {
     "data": {
      "text/plain": [
       "Unclassified    411064\n",
       "A               102148\n",
       "C                47542\n",
       "B                40221\n",
       "Motorway          6980\n",
       "A(M)               796\n",
       "Name: 2nd_Road_Class, dtype: int64"
      ]
     },
     "execution_count": 7,
     "metadata": {},
     "output_type": "execute_result"
    }
   ],
   "source": [
    "data['2nd_Road_Class'].value_counts()"
   ]
  },
  {
   "cell_type": "code",
   "execution_count": 8,
   "id": "86dbe2de",
   "metadata": {
    "collapsed": true
   },
   "outputs": [
    {
     "data": {
      "text/plain": [
       "Slight     895883\n",
       "Serious    138192\n",
       "Fatal       14500\n",
       "Name: Accident_Severity, dtype: int64"
      ]
     },
     "execution_count": 8,
     "metadata": {},
     "output_type": "execute_result"
    }
   ],
   "source": [
    "data['Accident_Severity'].value_counts()"
   ]
  },
  {
   "cell_type": "code",
   "execution_count": 9,
   "id": "aa36a483",
   "metadata": {
    "collapsed": true
   },
   "outputs": [
    {
     "data": {
      "text/plain": [
       "None                                               1028834\n",
       "Other object on road                                  8975\n",
       "Any animal in carriageway (except ridden horse)       5614\n",
       "Pedestrian in carriageway - not injured               2257\n",
       "Previous accident                                     1722\n",
       "Vehicle load on road                                  1144\n",
       "Name: Carriageway_Hazards, dtype: int64"
      ]
     },
     "execution_count": 9,
     "metadata": {},
     "output_type": "execute_result"
    }
   ],
   "source": [
    "data['Carriageway_Hazards'].value_counts()"
   ]
  },
  {
   "cell_type": "code",
   "execution_count": 10,
   "id": "5248c8c5",
   "metadata": {
    "collapsed": true
   },
   "outputs": [
    {
     "data": {
      "text/plain": [
       "1.0    843106\n",
       "2.0    202134\n",
       "3.0      3066\n",
       "Name: Did_Police_Officer_Attend_Scene_of_Accident, dtype: int64"
      ]
     },
     "execution_count": 10,
     "metadata": {},
     "output_type": "execute_result"
    }
   ],
   "source": [
    "data['Did_Police_Officer_Attend_Scene_of_Accident'].value_counts()"
   ]
  },
  {
   "cell_type": "code",
   "execution_count": 11,
   "id": "52dc7c55",
   "metadata": {
    "collapsed": true
   },
   "outputs": [
    {
     "data": {
      "text/plain": [
       "Give way or uncontrolled               502984\n",
       "Data missing or out of range           353871\n",
       "Auto traffic signal                    105500\n",
       "Not at junction or within 20 metres     76916\n",
       "Stop sign                                7128\n",
       "Authorised person                        1838\n",
       "Auto traffic sigl                         338\n",
       "Name: Junction_Control, dtype: int64"
      ]
     },
     "execution_count": 11,
     "metadata": {},
     "output_type": "execute_result"
    }
   ],
   "source": [
    "data['Junction_Control'].value_counts()"
   ]
  },
  {
   "cell_type": "code",
   "execution_count": 12,
   "id": "6fb6f026",
   "metadata": {
    "collapsed": true
   },
   "outputs": [
    {
     "data": {
      "text/plain": [
       "Not at junction or within 20 metres    429428\n",
       "T or staggered junction                318963\n",
       "Crossroads                              98456\n",
       "Roundabout                              88932\n",
       "Private drive or entrance               37132\n",
       "Other junction                          34533\n",
       "Slip road                               15568\n",
       "More than 4 arms (not roundabout)       15553\n",
       "Mini-roundabout                         10000\n",
       "Data missing or out of range               10\n",
       "Name: Junction_Detail, dtype: int64"
      ]
     },
     "execution_count": 12,
     "metadata": {},
     "output_type": "execute_result"
    }
   ],
   "source": [
    "data['Junction_Detail'].value_counts()"
   ]
  },
  {
   "cell_type": "code",
   "execution_count": 13,
   "id": "ed7676f4",
   "metadata": {
    "collapsed": true
   },
   "outputs": [
    {
     "data": {
      "text/plain": [
       "Daylight                       764036\n",
       "Darkness - lights lit          207972\n",
       "Darkness - no lighting          60795\n",
       "Darkness - lighting unknown      9372\n",
       "Darkness - lights unlit          4316\n",
       "Name: Light_Conditions, dtype: int64"
      ]
     },
     "execution_count": 13,
     "metadata": {},
     "output_type": "execute_result"
    }
   ],
   "source": [
    "data['Light_Conditions'].value_counts()"
   ]
  },
  {
   "cell_type": "code",
   "execution_count": 14,
   "id": "1904f948",
   "metadata": {
    "collapsed": true
   },
   "outputs": [
    {
     "data": {
      "text/plain": [
       "No     985871\n",
       "Yes     62661\n",
       "Name: InScotland, dtype: int64"
      ]
     },
     "execution_count": 14,
     "metadata": {},
     "output_type": "execute_result"
    }
   ],
   "source": [
    "data['InScotland'].value_counts()"
   ]
  },
  {
   "cell_type": "markdown",
   "id": "76840535",
   "metadata": {},
   "source": [
    "## Observations:\n",
    "\n",
    "1. Accident_Index = no missing values\n",
    "<br><br> \n",
    "2. 1st_Road_Class = 305589 missing values\n",
    "    - Has categories A, B, C, Motorway, A(M)\n",
    "<br><br> \n",
    "3. 1st_Road_Number = 2 missing values\n",
    "<br><br> \n",
    "4. 2nd_Road_Class = 439824 missing values\n",
    "    - Has categories Unclassified, A, B, C, Motorway, A(M)\n",
    "<br><br>   \n",
    "5. 2nd_Road_Number = 439824 missing values\n",
    "<br><br> \n",
    "6. Accident_Severity = 0 missing values\n",
    "    - Has categories Slight, Serious, Fatal\n",
    "<br><br>     \n",
    "7. Carriageway_Hazards = 29 missing values\n",
    "    - Has categories None, Other Object, Animal, Pedestrian, Previous Accident, Vehicle\n",
    "<br><br>    \n",
    "8. Date = 0 missing values\n",
    "<br><br> \n",
    "9. Day_of_Week = 0 missing values\n",
    "<br><br> \n",
    "10. Did_Police_Officer_Attend_Scene_of_Accident = 269 missing values\n",
    "    - Has categories 1.0 (yes), 2.0 (no), 3.0 (reported by self-completion form)\n",
    "<br><br>     \n",
    "11. Junction_Control = 0 missing values\n",
    "    - Has categories with very big text names, it is necessary to map them or encode them using numbers to reduce computation.\n",
    "<br><br> \n",
    "12. Junction_Detail = 0 missing values\n",
    "    - Has categories with very big text names, it is necessary to map them or encode them using numbers to reduce computation.\n",
    "<br><br>     \n",
    "13. Latitude = 111 missing values\n",
    "<br><br> \n",
    "14. Light_Conditions = 2084 missing values\n",
    "    - Has categories Daylight, Darkness - lights lit/no lighting/lighting unknown/lights unlit\n",
    "<br><br>     \n",
    "15. Local_Authority_(District) = 0 missing values\n",
    "<br><br> \n",
    "16. Local_Authority_(Highway) = 0 missing values\n",
    "<br><br> \n",
    "17. Location_Easting_OSGR = 111 missing values\n",
    "<br><br> \n",
    "18. Location_Northing_OSGR = 111 missing values\n",
    "<br><br> \n",
    "19. Longitude = 112 missing values\n",
    "<br><br> \n",
    "20. LSOA_of_Accident_Location = 71890 missing values\n",
    "<br><br> \n",
    "21. Number_of_Casualties = 0 missing values\n",
    "<br><br> \n",
    "22. Number_of_Vehicles = 0 missing values\n",
    "<br><br>  \n",
    "23. Pedestrian_Crossing-Human_Control = 21 missing values\n",
    "    - Has categories 1(None with 50m), 2(control by school crossing patrol), 3(control by authorized person)\n",
    "<br><br> \n",
    "24. Pedestrian_Crossing-Physical_Facilities = 37 missing values\n",
    "    - Has categories but it doesnt match with the categories given in the data description/glossary.\n",
    "<br><br> \n",
    "25. Police_Force = 0 missing values\n",
    "<br><br> \n",
    "26. Road_Surface_Conditions = 1189 missing values\n",
    "    - Has categories Dry, Web Or Damp, Frost or Ice, Snow, Flood Over 3cm deep\n",
    "<br><br> \n",
    "27. Road Type = 7266 missing values\n",
    "    - Has categories Single Carriageway, Dual Carriageway, Roundabout, One way street, Slip Road\n",
    "<br><br> \n",
    "28. Special_Conditions_at_Site = 16 missing values\n",
    "    - Has 10 different categories.\n",
    "<br><br>\n",
    "29. Speed_Limit = 0 missing values \n",
    "    - 8 Different Values/Ranges.\n",
    "<br><br> \n",
    "30. Time = 100 missing values \n",
    "<br><br> \n",
    "31. Urban_or_Rural_Area = 85 missing values\n",
    "    - Has categories urban, rural, unallocated.\n",
    "<br><br> \n",
    "32. Weather_Conditions = 21392 missing values\n",
    "    - Has 8 categories.\n",
    "<br><br> \n",
    "33. Year = 0 missing values\n",
    "    - 2005 till 2010\n",
    "<br><br> \n",
    "34. InScotland = 43 missing values\n",
    "    - Has categories Yes, No"
   ]
  },
  {
   "cell_type": "markdown",
   "id": "bb54955f",
   "metadata": {},
   "source": [
    "## Some Solutions:\n",
    "\n",
    "1. We can remove the missing values of those columns by simply dropping those rows which constitute less than 5% of the data.\n",
    "<br><br>\n",
    "2. For missing values in columns whose rows constitute more than 5% of the data, we can do Imputation, a technique where we can guess the missing values;\n",
    "    - We can use mean or median for numerical values.\n",
    "    - We can use mode (most frequent value) for categorial values.\n",
    "<br><br>\n",
    "3. An important thing to note is that, most values of columns are in text form, and some are very large texts and occupy a lot of space. By encoding those columns and mapping them to numerical values, we can save space, time and overall computation when we will be analysing the data.\n",
    "<br><br>"
   ]
  },
  {
   "cell_type": "markdown",
   "id": "2a2e8013",
   "metadata": {},
   "source": [
    "## Insights"
   ]
  },
  {
   "cell_type": "code",
   "execution_count": 15,
   "id": "d762070e",
   "metadata": {
    "collapsed": true
   },
   "outputs": [
    {
     "data": {
      "text/plain": [
       "(1048575, 34)"
      ]
     },
     "execution_count": 15,
     "metadata": {},
     "output_type": "execute_result"
    }
   ],
   "source": [
    "data_subset = data.copy()\n",
    "\n",
    "data_subset.shape"
   ]
  },
  {
   "cell_type": "code",
   "execution_count": 16,
   "id": "23729537",
   "metadata": {
    "collapsed": true
   },
   "outputs": [
    {
     "data": {
      "text/plain": [
       "Index(['Accident_Index', '1st_Road_Class', '1st_Road_Number', '2nd_Road_Class',\n",
       "       '2nd_Road_Number', 'Accident_Severity', 'Carriageway_Hazards', 'Date',\n",
       "       'Day_of_Week', 'Did_Police_Officer_Attend_Scene_of_Accident',\n",
       "       'Junction_Control', 'Junction_Detail', 'Latitude', 'Light_Conditions',\n",
       "       'Local_Authority_(District)', 'Local_Authority_(Highway)',\n",
       "       'Location_Easting_OSGR', 'Location_Northing_OSGR', 'Longitude',\n",
       "       'LSOA_of_Accident_Location', 'Number_of_Casualties',\n",
       "       'Number_of_Vehicles', 'Pedestrian_Crossing-Human_Control',\n",
       "       'Pedestrian_Crossing-Physical_Facilities', 'Police_Force',\n",
       "       'Road_Surface_Conditions', 'Road_Type', 'Special_Conditions_at_Site',\n",
       "       'Speed_limit', 'Time', 'Urban_or_Rural_Area', 'Weather_Conditions',\n",
       "       'Year', 'InScotland'],\n",
       "      dtype='object')"
      ]
     },
     "execution_count": 16,
     "metadata": {},
     "output_type": "execute_result"
    }
   ],
   "source": [
    "data_subset.columns"
   ]
  },
  {
   "cell_type": "markdown",
   "id": "6cfe6e5c",
   "metadata": {
    "heading_collapsed": true
   },
   "source": [
    "### **NUMBER OF CASUALITIES IN EACH TYPE OF ACCIDENT**"
   ]
  },
  {
   "cell_type": "code",
   "execution_count": 17,
   "id": "7f7cf497",
   "metadata": {
    "hidden": true
   },
   "outputs": [
    {
     "data": {
      "text/plain": [
       "<AxesSubplot:xlabel='Accident_Severity'>"
      ]
     },
     "execution_count": 17,
     "metadata": {},
     "output_type": "execute_result"
    },
    {
     "data": {
      "image/png": "[encoded data removed]",
      "text/plain": [
       "<Figure size 432x288 with 1 Axes>"
      ]
     },
     "metadata": {
      "needs_background": "light"
     },
     "output_type": "display_data"
    }
   ],
   "source": [
    "num_casualties = data_subset.groupby('Accident_Severity')['Number_of_Casualties'].sum()\n",
    "num_casualties.plot(kind = 'bar')"
   ]
  },
  {
   "cell_type": "code",
   "execution_count": 18,
   "id": "f43a378a",
   "metadata": {
    "hidden": true
   },
   "outputs": [
    {
     "data": {
      "text/plain": [
       "<AxesSubplot:xlabel='Accident_Severity'>"
      ]
     },
     "execution_count": 18,
     "metadata": {},
     "output_type": "execute_result"
    },
    {
     "data": {
      "image/png": "[encoded data removed]",
      "text/plain": [
       "<Figure size 432x288 with 1 Axes>"
      ]
     },
     "metadata": {
      "needs_background": "light"
     },
     "output_type": "display_data"
    }
   ],
   "source": [
    "num_casualties = data_subset.groupby('Accident_Severity')['Number_of_Casualties'].mean()\n",
    "num_casualties.plot(kind = 'bar')"
   ]
  },
  {
   "cell_type": "markdown",
   "id": "fedd441b",
   "metadata": {
    "hidden": true
   },
   "source": [
    "#### **Conclusion:**\n",
    "- It seems that average number of casualties for each class is around 1 - 2.\n",
    "- And most of the casualties that have happened over the years are Slight!"
   ]
  },
  {
   "cell_type": "markdown",
   "id": "0ae76c39",
   "metadata": {
    "heading_collapsed": true
   },
   "source": [
    "### **NUMBER OF VEHICLES INVOLVED IN EACH TYPE OF ACCIDENT**"
   ]
  },
  {
   "cell_type": "code",
   "execution_count": 19,
   "id": "b95b7e09",
   "metadata": {
    "hidden": true
   },
   "outputs": [
    {
     "data": {
      "text/plain": [
       "<AxesSubplot:xlabel='Accident_Severity'>"
      ]
     },
     "execution_count": 19,
     "metadata": {},
     "output_type": "execute_result"
    },
    {
     "data": {
      "image/png": "[encoded data removed]",
      "text/plain": [
       "<Figure size 432x288 with 1 Axes>"
      ]
     },
     "metadata": {
      "needs_background": "light"
     },
     "output_type": "display_data"
    }
   ],
   "source": [
    "num_vehicles = data_subset.groupby('Accident_Severity')['Number_of_Vehicles'].mean()\n",
    "num_vehicles.plot(kind = 'bar')"
   ]
  },
  {
   "cell_type": "markdown",
   "id": "020532e1",
   "metadata": {
    "hidden": true
   },
   "source": [
    "#### **Conclusion:**\n",
    "- Average number of vehicles involved for each type of accident is also around 1 - 2."
   ]
  },
  {
   "cell_type": "markdown",
   "id": "f6cc3e92",
   "metadata": {
    "heading_collapsed": true
   },
   "source": [
    "### **AVERAGE AND TOTAL CASUALITIES OVER THE YEARS**"
   ]
  },
  {
   "cell_type": "code",
   "execution_count": 20,
   "id": "5a3729c5",
   "metadata": {
    "hidden": true
   },
   "outputs": [
    {
     "data": {
      "text/plain": [
       "<AxesSubplot:xlabel='Year'>"
      ]
     },
     "execution_count": 20,
     "metadata": {},
     "output_type": "execute_result"
    },
    {
     "data": {
      "image/png": "[encoded data removed]",
      "text/plain": [
       "<Figure size 432x288 with 1 Axes>"
      ]
     },
     "metadata": {
      "needs_background": "light"
     },
     "output_type": "display_data"
    }
   ],
   "source": [
    "avg_casualties = data_subset.groupby('Year')['Number_of_Casualties'].mean()\n",
    "avg_casualties.plot()"
   ]
  },
  {
   "cell_type": "code",
   "execution_count": 21,
   "id": "8835da40",
   "metadata": {
    "hidden": true
   },
   "outputs": [
    {
     "data": {
      "text/plain": [
       "<AxesSubplot:xlabel='Year'>"
      ]
     },
     "execution_count": 21,
     "metadata": {},
     "output_type": "execute_result"
    },
    {
     "data": {
      "image/png": "[encoded data removed]",
      "text/plain": [
       "<Figure size 432x288 with 1 Axes>"
      ]
     },
     "metadata": {
      "needs_background": "light"
     },
     "output_type": "display_data"
    }
   ],
   "source": [
    "casualties = data_subset.groupby('Year')['Number_of_Casualties'].sum()\n",
    "casualties.plot()"
   ]
  },
  {
   "cell_type": "markdown",
   "id": "7f666da4",
   "metadata": {
    "heading_collapsed": true,
    "hidden": true
   },
   "source": [
    "#### **Conclusion:**\n",
    "The average casualties from the years 2005 to 2010 have decreased."
   ]
  },
  {
   "cell_type": "markdown",
   "id": "79da2dc4",
   "metadata": {
    "heading_collapsed": true
   },
   "source": [
    "### **SPEED VS NUMBER OF CASUALTIES**"
   ]
  },
  {
   "cell_type": "code",
   "execution_count": 22,
   "id": "5f250087",
   "metadata": {
    "hidden": true
   },
   "outputs": [
    {
     "data": {
      "text/plain": [
       "<AxesSubplot:xlabel='Speed_limit'>"
      ]
     },
     "execution_count": 22,
     "metadata": {},
     "output_type": "execute_result"
    },
    {
     "data": {
      "image/png": "[encoded data removed]",
      "text/plain": [
       "<Figure size 432x288 with 1 Axes>"
      ]
     },
     "metadata": {
      "needs_background": "light"
     },
     "output_type": "display_data"
    }
   ],
   "source": [
    "speed_vs_casualties = data_subset.groupby('Speed_limit')['Number_of_Casualties'].sum()\n",
    "speed_vs_casualties.plot(kind = 'bar')"
   ]
  },
  {
   "cell_type": "code",
   "execution_count": 23,
   "id": "1580b2fc",
   "metadata": {
    "hidden": true
   },
   "outputs": [
    {
     "data": {
      "text/plain": [
       "<AxesSubplot:>"
      ]
     },
     "execution_count": 23,
     "metadata": {},
     "output_type": "execute_result"
    },
    {
     "data": {
      "image/png": "[encoded data removed]",
      "text/plain": [
       "<Figure size 432x288 with 1 Axes>"
      ]
     },
     "metadata": {
      "needs_background": "light"
     },
     "output_type": "display_data"
    }
   ],
   "source": [
    "data_subset['Speed_limit'].hist()"
   ]
  },
  {
   "cell_type": "markdown",
   "id": "d6aca3b7",
   "metadata": {
    "hidden": true
   },
   "source": [
    "#### **Conclusion:**\n",
    "Most of the casualties happened when the speed was 30mph!"
   ]
  },
  {
   "cell_type": "markdown",
   "id": "a3d2fee4",
   "metadata": {
    "heading_collapsed": true
   },
   "source": [
    "### **ROAD TYPE DISTRIBUTION**"
   ]
  },
  {
   "cell_type": "code",
   "execution_count": 24,
   "id": "a0ce4a21",
   "metadata": {
    "hidden": true
   },
   "outputs": [
    {
     "data": {
      "image/png": "[encoded data removed]",
      "text/plain": [
       "<Figure size 432x288 with 1 Axes>"
      ]
     },
     "metadata": {
      "needs_background": "light"
     },
     "output_type": "display_data"
    }
   ],
   "source": [
    "data_subset['Road_Type'].hist()\n",
    "plt.xticks(rotation = 45);"
   ]
  },
  {
   "cell_type": "markdown",
   "id": "835c36ea",
   "metadata": {
    "hidden": true
   },
   "source": [
    "#### **Conclusion:**\n",
    "- Most of the accidents happend on the Single Carriageway Road Type!"
   ]
  },
  {
   "cell_type": "markdown",
   "id": "482131bf",
   "metadata": {
    "heading_collapsed": true
   },
   "source": [
    "### **JUNCTION CONTROL DISTRIBUTION**"
   ]
  },
  {
   "cell_type": "code",
   "execution_count": 25,
   "id": "65efd53f",
   "metadata": {
    "hidden": true
   },
   "outputs": [
    {
     "data": {
      "image/png": "[encoded data removed]",
      "text/plain": [
       "<Figure size 432x288 with 1 Axes>"
      ]
     },
     "metadata": {
      "needs_background": "light"
     },
     "output_type": "display_data"
    }
   ],
   "source": [
    "data_subset['Road_Surface_Conditions'].hist()\n",
    "plt.xticks(rotation = 90);"
   ]
  },
  {
   "cell_type": "markdown",
   "id": "aa094c24",
   "metadata": {
    "hidden": true
   },
   "source": [
    "#### **Conclusion:**\n",
    "- Most of the accidents happened on Dry Road Conditions"
   ]
  },
  {
   "cell_type": "markdown",
   "id": "ba01afe2",
   "metadata": {
    "heading_collapsed": true
   },
   "source": [
    "## Exploring Data Further"
   ]
  },
  {
   "cell_type": "markdown",
   "id": "35e9e149",
   "metadata": {
    "heading_collapsed": true,
    "hidden": true
   },
   "source": [
    "#### SPEED LIMIT USING PMF"
   ]
  },
  {
   "cell_type": "code",
   "execution_count": 26,
   "id": "5917585c",
   "metadata": {
    "hidden": true
   },
   "outputs": [
    {
     "data": {
      "text/plain": [
       "63.67689483346446"
      ]
     },
     "execution_count": 26,
     "metadata": {},
     "output_type": "execute_result"
    }
   ],
   "source": [
    "# speed-limit using PMF (how often does each value occur in the dataset)\n",
    "\n",
    "pmf_speed = ed.Pmf.from_seq(data_subset['Speed_limit'], normalize = True)\n",
    "pmf_speed[30] * 100\n",
    "\n",
    "# 60% of the data comrpises of accidents happened at 30mph"
   ]
  },
  {
   "cell_type": "code",
   "execution_count": 27,
   "id": "b5ac0c48",
   "metadata": {
    "hidden": true
   },
   "outputs": [
    {
     "data": {
      "image/png": "[encoded data removed]",
      "text/plain": [
       "<Figure size 432x288 with 1 Axes>"
      ]
     },
     "metadata": {
      "needs_background": "light"
     },
     "output_type": "display_data"
    }
   ],
   "source": [
    "pmf_speed.bar(label = data_subset['Speed_limit'])"
   ]
  },
  {
   "cell_type": "markdown",
   "id": "4ec1ba67",
   "metadata": {
    "heading_collapsed": true,
    "hidden": true
   },
   "source": [
    "#### DAY LIMIT USING PMF"
   ]
  },
  {
   "cell_type": "code",
   "execution_count": 28,
   "id": "3101532e",
   "metadata": {
    "hidden": true
   },
   "outputs": [
    {
     "name": "stdout",
     "output_type": "stream",
     "text": [
      "Friday       16.394631\n",
      "Monday       14.162649\n",
      "Saturday     13.563837\n",
      "Sunday       11.065780\n",
      "Thursday     14.857116\n",
      "Tuesday      14.888682\n",
      "Wednesday    15.067306\n",
      "Name: , dtype: float64\n"
     ]
    },
    {
     "data": {
      "image/png": "[encoded data removed]",
      "text/plain": [
       "<Figure size 432x288 with 1 Axes>"
      ]
     },
     "metadata": {
      "needs_background": "light"
     },
     "output_type": "display_data"
    }
   ],
   "source": [
    "pmf_day = ed.Pmf.from_seq(data_subset['Day_of_Week'], normalize = True)\n",
    "print(pmf_day*100)\n",
    "pmf_day.bar(label = data_subset['Day_of_Week'])\n",
    "plt.xticks(rotation = 45);\n",
    "\n",
    "# there is no relation between the day of the week and the accidents occured."
   ]
  },
  {
   "cell_type": "markdown",
   "id": "9f12a964",
   "metadata": {
    "heading_collapsed": true,
    "hidden": true
   },
   "source": [
    "#### Comparing Speed Across Different Accident Severities"
   ]
  },
  {
   "cell_type": "code",
   "execution_count": 29,
   "id": "c5ec237b",
   "metadata": {
    "hidden": true
   },
   "outputs": [
    {
     "data": {
      "image/png": "[encoded data removed]",
      "text/plain": [
       "<Figure size 432x288 with 1 Axes>"
      ]
     },
     "metadata": {
      "needs_background": "light"
     },
     "output_type": "display_data"
    }
   ],
   "source": [
    "severity1 = data_subset[data_subset['Accident_Severity'] == 'Slight']['Speed_limit']\n",
    "severity2 = data_subset[data_subset['Accident_Severity'] == 'Serious']['Speed_limit']\n",
    "severity3 = data_subset[data_subset['Accident_Severity'] == 'Fatal']['Speed_limit']\n",
    "\n",
    "\n",
    "pmf_severity1 = ed.Pmf.from_seq(severity1, normalize = True)\n",
    "pmf_severity2 = ed.Pmf.from_seq(severity2, normalize = True)\n",
    "pmf_severity3 = ed.Pmf.from_seq(severity3, normalize = True)\n",
    "\n",
    "pmf_severity1.plot(label = 'Slight')\n",
    "pmf_severity2.plot(label = 'Serious')\n",
    "pmf_severity3.plot(label = 'Fatal')\n",
    "plt.legend()\n",
    "plt.show()"
   ]
  },
  {
   "cell_type": "markdown",
   "id": "3dcd8829",
   "metadata": {
    "heading_collapsed": true,
    "hidden": true
   },
   "source": [
    "#### Seeing Distributions of Light Conditions!"
   ]
  },
  {
   "cell_type": "code",
   "execution_count": 37,
   "id": "e5362d2c",
   "metadata": {
    "hidden": true
   },
   "outputs": [
    {
     "data": {
      "text/html": [
       "<div>\n",
       "<style scoped>\n",
       "    .dataframe tbody tr th:only-of-type {\n",
       "        vertical-align: middle;\n",
       "    }\n",
       "\n",
       "    .dataframe tbody tr th {\n",
       "        vertical-align: top;\n",
       "    }\n",
       "\n",
       "    .dataframe thead th {\n",
       "        text-align: right;\n",
       "    }\n",
       "</style>\n",
       "<table border=\"1\" class=\"dataframe\">\n",
       "  <thead>\n",
       "    <tr style=\"text-align: right;\">\n",
       "      <th></th>\n",
       "      <th>probs</th>\n",
       "    </tr>\n",
       "  </thead>\n",
       "  <tbody>\n",
       "    <tr>\n",
       "      <th>Darkness - lighting unknown</th>\n",
       "      <td>0.008956</td>\n",
       "    </tr>\n",
       "    <tr>\n",
       "      <th>Darkness - lights lit</th>\n",
       "      <td>0.198733</td>\n",
       "    </tr>\n",
       "    <tr>\n",
       "      <th>Darkness - lights unlit</th>\n",
       "      <td>0.004124</td>\n",
       "    </tr>\n",
       "    <tr>\n",
       "      <th>Darkness - no lighting</th>\n",
       "      <td>0.058094</td>\n",
       "    </tr>\n",
       "    <tr>\n",
       "      <th>Daylight</th>\n",
       "      <td>0.730093</td>\n",
       "    </tr>\n",
       "  </tbody>\n",
       "</table>\n",
       "</div>"
      ],
      "text/plain": [
       "Darkness - lighting unknown    0.008956\n",
       "Darkness - lights lit          0.198733\n",
       "Darkness - lights unlit        0.004124\n",
       "Darkness - no lighting         0.058094\n",
       "Daylight                       0.730093\n",
       "Name: , dtype: float64"
      ]
     },
     "execution_count": 37,
     "metadata": {},
     "output_type": "execute_result"
    }
   ],
   "source": [
    "pmf_light = ed.Pmf.from_seq(data_subset['Light_Conditions'], normalize = True)\n",
    "pmf_light"
   ]
  },
  {
   "cell_type": "code",
   "execution_count": 40,
   "id": "4e0e2e7a",
   "metadata": {
    "hidden": true
   },
   "outputs": [
    {
     "data": {
      "text/plain": [
       "<AxesSubplot:>"
      ]
     },
     "execution_count": 40,
     "metadata": {},
     "output_type": "execute_result"
    },
    {
     "data": {
      "image/png": "[encoded data removed]",
      "text/plain": [
       "<Figure size 432x288 with 1 Axes>"
      ]
     },
     "metadata": {
      "needs_background": "light"
     },
     "output_type": "display_data"
    }
   ],
   "source": [
    "pmf_light.plot(kind = 'barh')"
   ]
  },
  {
   "cell_type": "markdown",
   "id": "5856650e",
   "metadata": {},
   "source": [
    "## Compilied Conclusions:\n",
    "\n",
    "- Average number of casualties for each accident severity is around 1 - 2.\n",
    "- Most of the casualties that have happened over the years have severity SLIGHT.\n",
    "- Average number of vehicles for each accident severity are 2 vehicles.\n",
    "- The average and total casualties over the years (2005 - 2010) have decreased!\n",
    "- Most of the accidents happened when the speed was around 30mph.\n",
    "- About 63% of the accidents happened at 30mph.\n",
    "- Most of the accidents happened on Single Carriageway Road Type.\n",
    "- Most of the accidents happend on Dry Road conditions.\n",
    "- There is no relation between the day of the week and the accidents occured!\n",
    "- Most of the accidents (about 73% of them) happened during DayLight."
   ]
  }
 ],
 "metadata": {
  "kernelspec": {
   "display_name": "Python 3 (ipykernel)",
   "language": "python",
   "name": "python3"
  },
  "language_info": {
   "codemirror_mode": {
    "name": "ipython",
    "version": 3
   },
   "file_extension": ".py",
   "mimetype": "text/x-python",
   "name": "python",
   "nbconvert_exporter": "python",
   "pygments_lexer": "ipython3",
   "version": "3.10.4"
  }
 },
 "nbformat": 4,
 "nbformat_minor": 5
}
